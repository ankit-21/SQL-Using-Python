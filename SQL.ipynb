{
 "cells": [
  {
   "cell_type": "code",
   "execution_count": null,
   "metadata": {},
   "outputs": [],
   "source": [
    "#importing libraries which enable us to write SQL queries in Jupyter Notebook\n",
    "import pandas as pd\n",
    "import sqlite3 "
   ]
  },
  {
   "cell_type": "code",
   "execution_count": null,
   "metadata": {},
   "outputs": [],
   "source": [
    "#import the .csv dataset from directory\n",
    "df = pd.read_csv('Table1.csv', encoding='cp1252') "
   ]
  },
  {
   "cell_type": "code",
   "execution_count": null,
   "metadata": {},
   "outputs": [],
   "source": [
    "#connect to a database\n",
    "conn = sqlite3.connect(\"My_SQL.db\") #if the db does not exist, this creates a My_SQL.db file in the current directory"
   ]
  },
  {
   "cell_type": "code",
   "execution_count": null,
   "metadata": {},
   "outputs": [],
   "source": [
    "#store your table in the database:\n",
    "df.to_sql('My_Table', conn)"
   ]
  },
  {
   "cell_type": "code",
   "execution_count": null,
   "metadata": {},
   "outputs": [],
   "source": [
    "#read a SQL Query out of your database and into a pandas dataframe\n",
    "sql_string = 'SELECT * FROM My_Table'\n",
    "df = pd.read_sql(sql_string, conn)"
   ]
  },
  {
   "cell_type": "code",
   "execution_count": null,
   "metadata": {},
   "outputs": [],
   "source": [
    "df.head()"
   ]
  },
  {
   "cell_type": "code",
   "execution_count": null,
   "metadata": {},
   "outputs": [],
   "source": [
    "pd.read_sql_query('SELECT * FROM My_Table LIMIT 10', conn)"
   ]
  },
  {
   "cell_type": "code",
   "execution_count": null,
   "metadata": {},
   "outputs": [],
   "source": [
    "#if ID number same, split SUMMARY column rows into different columns and store in a separate dataframe by name sq\n",
    "sq = pd.read_sql_query('WITH ot AS (SELECT ID_NUMBER, SUMMARY, ROW_NUMBER() OVER (Partition BY ID_NUMBER ORDER BY SUMMARY) n FROM My_Table) SELECT a.ID_NUMBER ID_NUMBER, a.SUMMARY SUMMARY1,b.SUMMARY SUMMARY2, c.SUMMARY SUMMARY3, d.SUMMARY SUMMARY4 FROM ot a LEFT JOIN ot b ON b.ID_NUMBER=a.ID_NUMBER AND b.n=2 LEFT JOIN ot c ON c.ID_NUMBER=b.ID_NUMBER AND c.n=3 LEFT JOIN ot d ON d.ID_NUMBER=c.ID_NUMBER AND d.n=4 WHERE a.n=1 ORDER BY ID_NUMBER', conn)\n",
    "sq.head(50)"
   ]
  },
  {
   "cell_type": "code",
   "execution_count": null,
   "metadata": {},
   "outputs": [],
   "source": [
    "#saving the above output in a table for further processing by the next query\n",
    "sq.to_sql('My_Table1', conn)"
   ]
  },
  {
   "cell_type": "code",
   "execution_count": null,
   "metadata": {},
   "outputs": [],
   "source": [
    "#check whether the columns have the same values and return a new column with 0 or 1\n",
    "sq1 = pd.read_sql_query('SELECT CASE WHEN SUMMARY1 = SUMMARY2 THEN \"1\" ELSE \"0\" END AS MyDesiredResult FROM My_Table1', conn)\n",
    "sq1.head()"
   ]
  },
  {
   "cell_type": "code",
   "execution_count": null,
   "metadata": {},
   "outputs": [],
   "source": [
    "#save the output in a new table for further processing\n",
    "sq1.to_sql('My_Table2', conn)"
   ]
  },
  {
   "cell_type": "code",
   "execution_count": null,
   "metadata": {},
   "outputs": [],
   "source": [
    "#checking the 0's for different values\n",
    "pd.read_sql_query('SELECT DISTINCT * FROM My_Table2 WHERE MyDesiredResult = \"0\"', conn)"
   ]
  },
  {
   "cell_type": "code",
   "execution_count": null,
   "metadata": {},
   "outputs": [],
   "source": [
    "#counting the total number of zeros for each separated row to see different values\n",
    "pd.read_sql_query('SELECT count(*) as MyDesiredResult FROM My_Table2 WHERE MyDesiredResult = \"0\"', conn)"
   ]
  },
  {
   "cell_type": "code",
   "execution_count": null,
   "metadata": {},
   "outputs": [],
   "source": [
    "#counting the total number of different rows in a column (SUMMARY) in the original dataframe\n",
    "pd.read_sql_query('SELECT count(*) as SUMMARY FROM My_Table', conn)"
   ]
  },
  {
   "cell_type": "code",
   "execution_count": null,
   "metadata": {},
   "outputs": [],
   "source": []
  }
 ],
 "metadata": {
  "kernelspec": {
   "display_name": "Python 3",
   "language": "python",
   "name": "python3"
  },
  "language_info": {
   "codemirror_mode": {
    "name": "ipython",
    "version": 3
   },
   "file_extension": ".py",
   "mimetype": "text/x-python",
   "name": "python",
   "nbconvert_exporter": "python",
   "pygments_lexer": "ipython3",
   "version": "3.7.3"
  }
 },
 "nbformat": 4,
 "nbformat_minor": 2
}
